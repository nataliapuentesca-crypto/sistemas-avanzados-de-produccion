{
  "nbformat": 4,
  "nbformat_minor": 0,
  "metadata": {
    "colab": {
      "provenance": [],
      "include_colab_link": true
    },
    "kernelspec": {
      "name": "python3",
      "display_name": "Python 3"
    },
    "language_info": {
      "name": "python"
    }
  },
  "cells": [
    {
      "cell_type": "markdown",
      "metadata": {
        "id": "view-in-github",
        "colab_type": "text"
      },
      "source": [
        "<a href=\"https://colab.research.google.com/github/nataliapuentesca-crypto/sistemas-avanzados-de-produccion/blob/main/NataliaPuentes_DennisCarrillo.ipynb\" target=\"_parent\"><img src=\"https://colab.research.google.com/assets/colab-badge.svg\" alt=\"Open In Colab\"/></a>"
      ]
    },
    {
      "cell_type": "markdown",
      "source": [
        "# Taller 3: Regresión Lineal y Conceptos Fundamentales\n",
        "\n"
      ],
      "metadata": {
        "id": "GntjqrqtVmM1"
      }
    },
    {
      "cell_type": "markdown",
      "source": [
        "## Instrucciones Generales\n",
        "\n",
        "**Fecha de entrega:** 20 de septiembre.\n",
        "**Tiempo disponible:** Tienen dos clases y el fin de semana para completar el taller.\n",
        "\n",
        "1.  **Trabajo en Grupo:** Este taller se debe realizar en los grupos previamente definidos.\n",
        "2.  **Repositorio en GitHub:** Cada grupo debe crear un repositorio en GitHub.\n",
        "    * Una sola persona del grupo es responsable de crearlo.\n",
        "    * El repositorio debe llamarse **`Regresion_Lineal`**.\n",
        "    * Este archivo debe ser subido al repositorio con el nombre **`Regresion_Lineal.ipynb`**.\n",
        "    * **Alternativa:** Si tienen complicaciones con GitHub, pueden enviar el enlace del cuaderno de Google Colab al aula virtual.\n",
        "3.  **Actividad a Mano (20% de la nota):**\n",
        "    * La asistencia a clase es **obligatoria**.\n",
        "    * Se realizará una actividad práctica de regresión lineal a mano.\n",
        "    * Cada integrante del grupo deberá firmar la hoja de la actividad, la cual constituye el 20% de la nota de este taller.\n",
        "    "
      ],
      "metadata": {
        "id": "vBKCWxfzUoMu"
      }
    },
    {
      "cell_type": "markdown",
      "source": [
        "## **Parte 1: Definición del Problema**\n",
        "\n",
        "Piensa en tu experiencia académica o laboral en un área de operaciones y elige **un problema** relacionado con inventarios, calidad, mantenimiento o productividad.\n",
        "\n",
        "1.  Indica cuál es tu variable dependiente **$Y$** (aquello que quieres predecir o clasificar).\n",
        "2.  Lista entre 3 y 5 variables independientes **$X$** que medirías para predecir $Y$.\n",
        "3.  Especifica si tu problema es de **regresión** (predecir un valor numérico) o de **clasificación**."
      ],
      "metadata": {
        "id": "ueGQVZ8FU2QC"
      }
    },
    {
      "cell_type": "markdown",
      "source": [
        "**Área de operaciones e inventarios**\n",
        "\n",
        "**Problema: Sobreinventario en una bodega de distribución..**\n",
        "\n",
        "\n",
        "**Respuesta 1** – Variable dependiente (Y):\n",
        "\n",
        "Probabilidad de que ocurra un sobrestock de inventario:\n",
        "\n",
        "Sí (exceso de inventario)\n",
        "\n",
        "No (inventario en nivel adecuado)\n",
        "\n",
        "Respuesta 2 – Variables independientes (X):\n",
        "\n",
        "X1: Tiempo promedio de entrega del proveedor (días).\n",
        "\n",
        "X2: Demanda promedio semanal del producto (unidades).\n",
        "\n",
        "X3: Nivel de inventario de seguridad (unidades).\n",
        "\n",
        "X4: Variabilidad de la demanda (desviación estándar de ventas).\n",
        "\n",
        "X5: Precisión del pronóstico de ventas (%).\n",
        "\n",
        "**Respuesta 3** – Tipo de problema:\n",
        "\n",
        "Clasificación, porque la variable dependiente Y toma dos categorías (queremos predecir si habrá sobrestock: “sí” o “no”)."
      ],
      "metadata": {
        "id": "Kd6LwwzvU7H6"
      }
    },
    {
      "cell_type": "markdown",
      "source": [
        "## **Parte 2: Preprocesamiento de Datos y *Leakage***\n",
        "\n",
        "Basado en el caso que definiste en la Parte 1:\n",
        "\n",
        "1.  Lista entre 3 y 5 **transformaciones** que aplicarías a tus datos (ej. imputación de valores faltantes, codificación de variables categóricas, escalado, creación de *lags*, etc.) y **justifica por qué** cada una es necesaria.\n",
        "2.  Señala un posible riesgo de ***data leakage*** (fuga de datos) en tu plan y explica cómo lo evitarías usando un *pipeline* de preprocesamiento.\n"
      ],
      "metadata": {
        "id": "d95Z8vhTU8Ep"
      }
    },
    {
      "cell_type": "markdown",
      "source": [
        "Imputación de valores faltantes\n",
        "\n",
        "Justificación: Es posible que el tiempo de entrega del proveedor o la demanda semanal tengan valores faltantes por errores en los registros. La imputación (por media, mediana o métodos más avanzados) garantiza que no perdamos información valiosa en el entrenamiento.\n",
        "\n",
        "Escalado de variables numéricas\n",
        "\n",
        "Justificación: Variables como “tiempo de entrega (días)” y “demanda semanal (unidades)” tienen escalas diferentes. Escalarlas (por ejemplo, con StandardScaler o MinMaxScaler) evita que una variable con valores grandes domine el modelo.\n",
        "\n",
        "Creación de variables derivadas (features engineering)\n",
        "\n",
        "Ejemplo: Crear la relación inventario de seguridad / demanda promedio semanal para identificar si los niveles de inventario de seguridad son proporcionales al consumo real.\n",
        "\n",
        "Justificación: Mejora la capacidad predictiva al capturar información relevante que no está explícita en las variables originales.\n",
        "\n",
        "Reducción de variabilidad (suavizado de demanda)\n",
        "\n",
        "Justificación: La demanda puede tener picos irregulares. Un promedio móvil o lags pueden ayudar a suavizar la serie, evitando que el modelo aprenda ruido en lugar de patrones reales.\n",
        "\n",
        "Codificación de variables categóricas (si existieran)\n",
        "\n",
        "Ejemplo: Si se incluye el tipo de producto o categoría ABC, se requeriría aplicar One-Hot Encoding o Target Encoding.\n",
        "\n",
        "Justificación: Los algoritmos no entienden directamente categorías, por lo que deben transformarse en valores numéricos."
      ],
      "metadata": {
        "id": "zOpOk7KVVBAR"
      }
    },
    {
      "cell_type": "markdown",
      "source": [
        "## **Parte 3: Interpretación y Métricas de Regresión Simple**\n",
        "\n",
        "Para esta sección, elige un caso simple de regresión (puede ser el tuyo o uno hipotético, como predecir la demanda de un producto según su precio).\n",
        "\n",
        "1.  Define claramente las variables **$Y$** y **$X$** junto con sus **unidades** (ej. $Y$: número de unidades vendidas, $X$: precio en dólares).\n",
        "2.  Supón que entrenas un modelo y obtienes una pendiente de **$\\hat{\\beta}_1 = -0.6$**. Escribe una interpretación clara y concisa de este coeficiente en el contexto de tu problema.\n",
        "3.  ¿Qué **métrica** de evaluación usarías (MAE, RMSE, o MAPE) y **por qué** es la más adecuada para tu caso?\n",
        "4.  Menciona **un supuesto** del modelo de regresión lineal que validarías (ej. linealidad, homocedasticidad) y explica **cómo** lo harías (usando un gráfico o una prueba estadística)."
      ],
      "metadata": {
        "id": "apwleKVOVGM9"
      }
    },
    {
      "cell_type": "markdown",
      "source": [
        "**Caso** Predecir la demanda de un producto en función de su precio.\n",
        "\n",
        "**Respuesta 1. Definición de variables**\n",
        "\n",
        "* **Variable dependiente (Y):** número de unidades vendidas por semana (unidades).\n",
        "\n",
        "* **Variable independiente (X):** precio del producto (USD).\n",
        "\n",
        "**Respuesta 2. Interpretación del coeficiente β¹ = -0.6**\n",
        "\n",
        "La pendiente negativa indica que por cada 1 dólar de aumento en el precio, la demanda del producto disminuye en 0.6 unidades por semana, manteniendo todo lo demás constante.\n",
        "\n",
        "**Respuesta 3. Métrica de evaluación**\n",
        "\n",
        "Escogería MAPE (Mean Absolute Percentage Error) porque:\n",
        "\n",
        "Permite interpretar el error en términos de porcentaje relativo a las ventas reales, lo cual es más intuitivo para la gestión comercial.\n",
        "\n",
        "Es útil en este caso, ya que los volúmenes de ventas pueden variar mucho según el precio, y no queremos que un error de 10 unidades pese igual cuando la demanda es de 50 que cuando es de 500.\n",
        "\n",
        "** Respuesta 4. Supuesto a validar: Linealidad**\n",
        "\n",
        "Supuesto: Linealidad entre X y Y.\n",
        "\n",
        "Cómo validarlo:\n",
        "\n",
        "Graficar un diagrama de dispersión (scatter plot) de precio vs. demanda y superponer la recta de regresión.\n",
        "\n",
        "Si los puntos muestran una tendencia aproximadamente lineal (sin curvas o patrones no lineales), el supuesto se cumple.\n",
        "\n",
        "Alternativamente, usar un test de Ramsey RESET para verificar si hay especificación incorrecta del modelo."
      ],
      "metadata": {
        "id": "BLyd-7z3VI2W"
      }
    },
    {
      "cell_type": "markdown",
      "source": [
        "## **Parte 4: Regresión Múltiple y Colinealidad**\n",
        "\n",
        "Volviendo a tu caso de la Parte 1 (con múltiples variables).\n",
        "\n",
        "1.  Escribe el **vector de variables** $\\vec{X}$ y la **respuesta** $Y$.\n",
        "2.  Explica cómo interpretarías el **coeficiente** de una de tus variables clave (incluyendo unidades y el sentido de la relación: positiva o negativa).\n",
        "3.  Si sospecharas que existe **colinealidad** entre tus variables, menciona **dos acciones** que podrías tomar para mitigarla."
      ],
      "metadata": {
        "id": "ekoLxjHVVL1t"
      }
    },
    {
      "cell_type": "markdown",
      "source": [
        "**Respuesta 1: Vector de variables**\n",
        "\n",
        "**X** = [ X1, X2, X3, X4, X5 ]\n",
        "\n",
        "X1 = Tiempo promedio de entrega del proveedor (días)\n",
        "\n",
        "X2 = Demanda promedio semanal del producto (unidades)\n",
        "\n",
        "X3 = Nivel de inventario de seguridad (unidades)\n",
        "\n",
        "X4 = Variabilidad de la demanda (desviación estándar en unidades)\n",
        "\n",
        "X5 = Precisión del pronóstico de ventas (%)\n",
        "\n",
        "$$\n",
        "X = \\begin{bmatrix}\n",
        "X1 \\\\\n",
        "X2 \\\\\n",
        "X3 \\\\\n",
        "X4 \\\\\n",
        "X5\n",
        "\\end{bmatrix}=\\begin{bmatrix}\n",
        "Tiempo promedio de entrega del proveedor (días) \\\\\n",
        "Demanda promedio semanal del producto (unidades) \\\\\n",
        "Nivel de inventario de seguridad (unidades)\\\\\n",
        "Variabilidad de la demanda (desviaciónestándarenunidades)\\\\\n",
        "Precisión del pronóstico de ventas (Porcentaje)\\\\\n",
        "\\end{bmatrix}\n",
        "$$\n",
        "\n",
        "\n",
        "**Y** = Número de unidades faltantes por semana (unidades)\n",
        "\n",
        "**Respuesta 2: Interpretación de un coeficiente ejemplo con $X_3 $**\n",
        "Tomamos el coeficiente asociado a $X_3$ (nivel de inventario de seguridad). En un modelo lineal múltiple:\n",
        "$\\hat{Y}$ = $β_0$ + $β_1$$X_1$ + $β_2$$X_2$ + $β_3$$X_3$ + $β_4$$X_4$ + $β_5$$X_5$\n",
        "Interpretación general de $β_3$:\n",
        "\n",
        "$β_3$ es el cambio esperado en el número de unidades faltantes por semana (Y) por cada aumento de 1 unidad en el inventario de seguridad (X_3), manteniendo constantes todas las demás X.\n",
        "\n",
        "Si $β_3$ < 0: un incremento en inventario de seguridad reduce las unidades faltantes (relación negativa — esperado en la práctica).\n",
        "\n",
        "Si  $β_3$ > 0: un incremento en inventario de seguridad aumenta las unidades faltantes (contrario a la intuición; indicaría problema en datos/modelo).\n",
        "\n",
        "**Respuesta 3: Si sospechara colinealidad: dos acciones para mitigarla**\n",
        "**a) Diagnóstico y eliminación/selección de variables**\n",
        "\n",
        "Calcular el **VIF (Variance Inflation Factor)** para cada X.\n",
        "\n",
        "Si VIF de una variable > 5 (o 10, según criterio) indica colinealidad elevada.\n",
        "\n",
        "Acción: eliminar la variable menos informativa o combinar variables muy correlacionadas (ej. si demanda promedio y variabilidad están fuertemente correlacionadas, evaluar cuál conservar o crear un indicador conjunto).\n",
        "\n",
        "Pros: sencillo y directo; mantiene interpretabilidad.\n",
        "\n",
        "Contras: pérdida potencial de información si se elimina una variable útil.\n",
        "\n",
        "**b) Regularización o reducción de dimensión**\n",
        "\n",
        "**Ridge regression** (penalización L2) o **PCA** sobre las X correlacionadas:\n",
        "\n",
        "Ridge reduce la varianza de los coeficientes colineales (los “encoge”) sin eliminar variables, mejorando estabilidad predictiva.\n",
        "\n",
        "PCA combina variables correlacionadas en componentes ortogonales; usar los primeros componentes como predictores.\n",
        "\n",
        "Pros: mejora la estabilidad del modelo y la predicción en presencia de colinealidad.\n",
        "\n",
        "Contras: Ridge mantiene todas las variables pero complica la interpretación; PCA reduce interpretabilidad porque los componentes son combinaciones lineales."
      ],
      "metadata": {
        "id": "2Scm1jCXVOLu"
      }
    },
    {
      "cell_type": "markdown",
      "source": [
        "## **Parte 5: Interacciones y Multicolinealidad (VIF)**\n",
        "\n",
        "1.  Plantea un caso con una variable $Y$ y entre 4 y 6 variables $X$. ¿Qué término de **interacción** entre dos variables podrías añadir al modelo y **por qué** crees que sería útil?\n",
        "2.  Si al calcular el Factor de Inflación de la Varianza (VIF) para una variable, obtienes un valor alto (ej. > 10), menciona **dos acciones** que podrías tomar para solucionarlo."
      ],
      "metadata": {
        "id": "hT8kIG_JVOmt"
      }
    },
    {
      "cell_type": "markdown",
      "source": [
        "Caso (Y  y entre 4 y 6 variables  X.)\n",
        "\n",
        "Y: Unidades faltantes por semana (unidades)\n",
        "\n",
        "X:\n",
        "\n",
        "X1: Tiempo promedio de entrega del proveedor (días)\n",
        "\n",
        "X2: Demanda promedio semanal (unidades)\n",
        "\n",
        "X3: Nivel de inventario de seguridad (unidades)\n",
        "\n",
        "X4: Variabilidad de la demanda (desviación estándar, unidades)\n",
        "\n",
        "X5: Precisión del pronóstico de ventas (%)\n",
        "\n",
        "(opcional X6): Número de proveedores activos (cantidad)\n",
        "\n",
        "**Respuesta 1: Término de interacción propuesto (y por qué es útil)**\n",
        "\n",
        "Término de interacción: ​$X_1$ x ​$X_4$ = (Tiempo de entrega) × (Variabilidad de la demanda)\n",
        "\n",
        "Forma en el modelo:\n",
        "$\\hat{Y}$ = $β_0$ + $β_1$$X_1$ + $β_2$$X_2$ + $β_3$$X_3$ + $β_4$$X_4$ + $β_5$$X_5$ + $β_14$($X_1$⋅$X_4$) + ε\n",
        "\n",
        "* Intuitivamente, el efecto de la variabilidad de la demanda sobre las unidades faltantes se amplifica cuando el tiempo de entrega es largo: si el lead time es corto, una subida repentina en demanda se puede absorber más fácilmente; si el lead time es largo, la misma variabilidad causa más faltantes.\n",
        "\n",
        "* El término $X_1$ ⋅ $X_4$ permite al modelo capturar ese efecto no aditivo: cuando $X_1$ aumenta, el coeficiente efectivo de $X_4$ cambia, y viceversa. Esto mejora ajuste y interpretabilidad operacional (por ejemplo: \"cuando el proveedor tarda 7 días, cada punto extra de desviación de demanda genera N faltantes adicionales\").\n",
        "\n",
        "**Respuesta 2 Si una variable tiene VIF alto (ej. >10): dos acciones para mitigar colinealidad**\n",
        "\n",
        "**Acción A — Diagnóstico y selección / combinación de variables**\n",
        "* Calcular VIF por variable; identificar pares/grupos altamente correlacionados (matriz de correlación).\n",
        "* Si dos variables informan lo mismo (p. ej. X2 Demanda promedio y X4 Variabilidad muy correlacionadas en tu muestra), eliminar la menos relevante o combinar en un índice (por ejemplo: Demanda efectiva = α· X2 + (1−α)·X4)o usar una sola variable con fundamento empresarial.\n",
        "* Ventaja: recuperas interpretabilidad y reduces varianza de los coeficientes.\n",
        "* Contras: posible pérdida de información si se elimina mal."
      ],
      "metadata": {
        "id": "1EfI4MuqVT0B"
      }
    },
    {
      "cell_type": "markdown",
      "source": [
        "## **Parte 6: Variables Categóricas e Interacciones**\n",
        "\n",
        "1.  Define una **variable categórica** para tu caso (puedes inventarla si no la tenías). Elige una de sus categorías como el nivel **base** o de referencia y **justifica** tu elección.\n",
        "2.  Crea una **interacción** entre una variable numérica y la variable categórica que definiste. Explica cómo se interpretaría el coeficiente de esta interacción."
      ],
      "metadata": {
        "id": "1Sn14YcNVUzJ"
      }
    },
    {
      "cell_type": "markdown",
      "source": [
        "**Respuesta 1:**\n",
        "\n",
        "\n",
        "**Variable categórica**\n",
        "\n",
        "Definimos la variable:\n",
        "\n",
        "* X6 = Tipo de producto\n",
        "* Categorías: A (alta rotación), B (media rotación), C (baja rotación)\n",
        "\n",
        "**Nivel de referencia (base):** Categoría A (alta rotación)\n",
        "\n",
        "* Es la categoría más común en inventarios y la que suele tener mayor impacto en la operación.\n",
        "\n",
        "* Elegirla como referencia facilita interpretar cómo cambian las faltantes para productos de menor rotación respecto al caso estándar (alta rotación).\n",
        "\n",
        "**Respuesta 2: Interacción entre variable numérica y categórica**\n",
        "\n",
        "**Interacción propuesta:** $X_2$ x $X_6$ =(Demanda promedio semanal en unidades)× (Tipo de producto)\n",
        "Cómo se interpretaría el coeficiente de esta interacción:\n",
        "\n",
        "El coeficiente mide cuánto se modifica el efecto de la demanda promedio sobre las unidades faltantes (Y) dependiendo de la categoría del producto.\n",
        "\n",
        "Ejemplo: Si el coeficiente de la interacción Demanda × C (baja rotación) es +0.3, significa que por cada unidad adicional de demanda semanal, los productos de baja rotación generan 0.3 faltantes más que los de alta rotación (categoría base), manteniendo las demás variables constantes.\n",
        "\n",
        "En cambio, si el coeficiente fuera negativo, indicaría que la demanda afecta menos a esa categoría comparada con la base.\n",
        "\n",
        "La interacción permite capturar que el impacto de la demanda sobre las faltantes no es igual en todos los tipos de producto"
      ],
      "metadata": {
        "id": "C6s2LqX0VYoB"
      }
    },
    {
      "cell_type": "markdown",
      "source": [
        "## **Parte 7: Conceptos Clave de Clasificación**\n",
        "\n",
        "Aunque el taller se centra en regresión, estos conceptos son fundamentales en Machine Learning.\n",
        "\n",
        "1.  Explica qué es la **curva ROC** y para qué se utiliza en un problema de clasificación.\n",
        "2.  Define el concepto de **accuracy** (exactitud) y menciona una situación en la que podría ser una métrica engañosa.\n",
        "3.  Describe qué es una **matriz de confusión** y cómo se interpretan sus componentes (Verdaderos Positivos, Falsos Positivos, Verdaderos Negativos, Falsos Negativos)."
      ],
      "metadata": {
        "id": "7zVS_WjcVbuR"
      }
    },
    {
      "cell_type": "markdown",
      "source": [
        "**Respuesta 1: Curva ROC**\n",
        "\n",
        "\n",
        "* La curva ROC (Receiver Operating Characteristic) es una gráfica que muestra el rendimiento de un modelo de clasificación binaria en distintos umbrales de decisión.\n",
        "\n",
        "* En el eje X se representa la tasa de falsos positivos (FPR) y en el eje Y la tasa de verdaderos positivos (TPR o sensibilidad).\n",
        "\n",
        "* Se utiliza para evaluar qué tan bien un modelo distingue entre clases, sin depender de un solo punto de corte.\n",
        "\n",
        "\n",
        "* El área bajo la curva (AUC) es una medida global de desempeño:\n",
        "\n",
        "     * AUC = 1 → Clasificación perfecta.\n",
        "\n",
        "     * AUC = 0.5 → Clasificación aleatoria.\n",
        "**Respuesta 2 Accuracy (Exactitud)**\n",
        "\n",
        "El accuracy mide el porcentaje de predicciones correctas sobre el total de predicciones:\n",
        "\n",
        "Accuracy= $$ = \\frac{TP \\ - {TN}}{TP+TN+FP+FN}$$\n",
        "\n",
        "* **Situación en la que es engañosa:**\n",
        "\n",
        "  * Cuando las clases están desbalanceadas.\n",
        "\n",
        "  * Ejemplo: si en un hospital solo el 1% de pacientes tiene una enfermedad, un modelo que siempre predice \"sano\" tendría 99% de accuracy, pero en realidad no detecta ningún enfermo.\n",
        "\n",
        "  * En estos casos métricas como recall, precisión o F1-score son más informativas.\n",
        "\n",
        "**Respuesta 3 Matriz de confusión**\n",
        "\n",
        "Una matriz de confusión es una tabla que permite evaluar el desempeño de un modelo de clasificación mostrando cómo se comparan las predicciones del modelo con los valores reales.\n",
        "\n",
        "Sus componentes son:\n",
        "\n",
        "* **Verdaderos Positivos (TP):** casos en los que el modelo predijo “positivo” y efectivamente eran positivos.\n",
        "\n",
        "* **Falsos Positivos (FP):** casos en los que el modelo predijo “positivo” pero en realidad eran negativos (también se les llama “falsas alarmas”).\n",
        "\n",
        "* **Verdaderos Negativos (TN):** casos en los que el modelo predijo “negativo” y efectivamente eran negativos.\n",
        "\n",
        "* **Falsos Negativos (FN):** casos en los que el modelo predijo “negativo” pero en realidad eran positivos (el modelo no detectó un caso positivo).\n"
      ],
      "metadata": {
        "id": "rpWQ8OHBVdvp"
      }
    },
    {
      "cell_type": "code",
      "source": [],
      "metadata": {
        "id": "55lNszJy7WhE"
      },
      "execution_count": null,
      "outputs": []
    }
  ]
}